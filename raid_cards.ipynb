{
 "cells": [
  {
   "cell_type": "code",
   "execution_count": 1,
   "metadata": {
    "collapsed": true
   },
   "outputs": [],
   "source": [
    "from selenium import webdriver\n",
    "import  time\n",
    "import pandas as pd"
   ]
  },
  {
   "cell_type": "code",
   "execution_count": 2,
   "outputs": [],
   "source": [
    "wd=webdriver.Chrome(r'chromedriver.exe')"
   ],
   "metadata": {
    "collapsed": false,
    "pycharm": {
     "name": "#%%\n"
    }
   }
  },
  {
   "cell_type": "code",
   "execution_count": 3,
   "outputs": [],
   "source": [
    "wd.get('https://tap-titans-2.fandom.com/wiki/Raid_Cards#Affliction')"
   ],
   "metadata": {
    "collapsed": false,
    "pycharm": {
     "name": "#%%\n"
    }
   }
  },
  {
   "cell_type": "code",
   "execution_count": 10,
   "outputs": [],
   "source": [
    "\n",
    "tbody_list=wd.find_elements_by_tag_name(\"tbody\")"
   ],
   "metadata": {
    "collapsed": false,
    "pycharm": {
     "name": "#%%\n"
    }
   }
  },
  {
   "cell_type": "code",
   "execution_count": 13,
   "outputs": [
    {
     "name": "stdout",
     "output_type": "stream",
     "text": [
      "3\n"
     ]
    }
   ],
   "source": [
    "print(len(tbody_list))"
   ],
   "metadata": {
    "collapsed": false,
    "pycharm": {
     "name": "#%%\n"
    }
   }
  },
  {
   "cell_type": "code",
   "execution_count": 16,
   "outputs": [],
   "source": [
    "Tierlist=[]\n",
    "Imagelist=[]\n",
    "Namelist=[]\n",
    "Typelist=[]\n",
    "Type=['Burst','Affliction','Support']"
   ],
   "metadata": {
    "collapsed": false,
    "pycharm": {
     "name": "#%%\n"
    }
   }
  },
  {
   "cell_type": "code",
   "execution_count": null,
   "outputs": [],
   "source": [],
   "metadata": {
    "collapsed": false,
    "pycharm": {
     "name": "#%%\n"
    }
   }
  },
  {
   "cell_type": "code",
   "execution_count": null,
   "outputs": [],
   "source": [],
   "metadata": {
    "collapsed": false,
    "pycharm": {
     "name": "#%%\n"
    }
   }
  },
  {
   "cell_type": "code",
   "execution_count": 17,
   "outputs": [
    {
     "name": "stdout",
     "output_type": "stream",
     "text": [
      "1 Clanship Barrage\n",
      "1 Moon Beam\n",
      "1 Psychic Chain\n",
      "2 Purifying Blast\n",
      "1 Razor Wind\n",
      "1 Skull Bash\n",
      "2 Whip of Lightning\n",
      "1 Acid Drench\n",
      "2 Ancestral Favor\n",
      "1 Grasping Vines\n",
      "2 Prismatic Rift\n",
      "2 Rancid Gas\n",
      "1 Victory March\n"
     ]
    }
   ],
   "source": [
    "for jndex,j in enumerate(tbody_list):\n",
    "    for index,i in enumerate(j.find_elements_by_tag_name('tr')):\n",
    "        if index==1:\n",
    "            pass\n",
    "        else:\n",
    "            print(i.text)\n",
    "            Tierlist.append(i.find_elements_by_tag_name('td')[0].text)\n",
    "            Imagelist.append(i.find_elements_by_tag_name('td')[1].text)\n",
    "            Namelist.append(i.find_elements_by_tag_name('td')[2].text)\n",
    "            Typelist.append(Type[jndex])"
   ],
   "metadata": {
    "collapsed": false,
    "pycharm": {
     "name": "#%%\n"
    }
   }
  },
  {
   "cell_type": "code",
   "execution_count": 19,
   "outputs": [
    {
     "data": {
      "text/plain": "['Burst',\n 'Burst',\n 'Burst',\n 'Burst',\n 'Burst',\n 'Burst',\n 'Burst',\n 'Affliction',\n 'Support',\n 'Support',\n 'Support',\n 'Support',\n 'Support']"
     },
     "execution_count": 19,
     "metadata": {},
     "output_type": "execute_result"
    }
   ],
   "source": [
    "Typelist"
   ],
   "metadata": {
    "collapsed": false,
    "pycharm": {
     "name": "#%%\n"
    }
   }
  },
  {
   "cell_type": "code",
   "execution_count": 20,
   "outputs": [],
   "source": [
    "df=pd.DataFrame()"
   ],
   "metadata": {
    "collapsed": false,
    "pycharm": {
     "name": "#%%\n"
    }
   }
  },
  {
   "cell_type": "code",
   "execution_count": 21,
   "outputs": [],
   "source": [
    "df['Tier']=Tierlist\n",
    "df['Name']=Namelist\n",
    "df['Type']=Typelist"
   ],
   "metadata": {
    "collapsed": false,
    "pycharm": {
     "name": "#%%\n"
    }
   }
  },
  {
   "cell_type": "code",
   "execution_count": 22,
   "outputs": [],
   "source": [
    "df.to_csv(\"Raid_Cards_List.csv\")"
   ],
   "metadata": {
    "collapsed": false,
    "pycharm": {
     "name": "#%%\n"
    }
   }
  },
  {
   "cell_type": "code",
   "execution_count": 23,
   "outputs": [],
   "source": [
    "web_add=[]"
   ],
   "metadata": {
    "collapsed": false,
    "pycharm": {
     "name": "#%%\n"
    }
   }
  },
  {
   "cell_type": "code",
   "execution_count": 24,
   "outputs": [],
   "source": [
    "for i in Namelist:\n",
    "    web_add.append(i.strip().replace(\" \",\"_\"))"
   ],
   "metadata": {
    "collapsed": false,
    "pycharm": {
     "name": "#%%\n"
    }
   }
  },
  {
   "cell_type": "code",
   "execution_count": 25,
   "outputs": [
    {
     "data": {
      "text/plain": "['Clanship_Barrage',\n 'Moon_Beam',\n 'Psychic_Chain',\n 'Purifying_Blast',\n 'Razor_Wind',\n 'Skull_Bash',\n 'Whip_of_Lightning',\n 'Acid_Drench',\n 'Ancestral_Favor',\n 'Grasping_Vines',\n 'Prismatic_Rift',\n 'Rancid_Gas',\n 'Victory_March']"
     },
     "execution_count": 25,
     "metadata": {},
     "output_type": "execute_result"
    }
   ],
   "source": [
    "web_add"
   ],
   "metadata": {
    "collapsed": false,
    "pycharm": {
     "name": "#%%\n"
    }
   }
  },
  {
   "cell_type": "code",
   "execution_count": 28,
   "outputs": [],
   "source": [
    "for index,item in enumerate(web_add):\n",
    "    wd.get(\"https://tap-titans-2.fandom.com/wiki/\"+item)\n",
    "    time.sleep(1)\n",
    "    wd.find_element_by_class_name('pi-image-thumbnail').screenshot('img/raid_cards/'+f\"{Namelist[index]}\"+'.png')"
   ],
   "metadata": {
    "collapsed": false,
    "pycharm": {
     "name": "#%%\n"
    }
   }
  },
  {
   "cell_type": "code",
   "execution_count": null,
   "outputs": [],
   "source": [],
   "metadata": {
    "collapsed": false,
    "pycharm": {
     "name": "#%%\n"
    }
   }
  }
 ],
 "metadata": {
  "kernelspec": {
   "display_name": "Python 3",
   "language": "python",
   "name": "python3"
  },
  "language_info": {
   "codemirror_mode": {
    "name": "ipython",
    "version": 2
   },
   "file_extension": ".py",
   "mimetype": "text/x-python",
   "name": "python",
   "nbconvert_exporter": "python",
   "pygments_lexer": "ipython2",
   "version": "2.7.6"
  }
 },
 "nbformat": 4,
 "nbformat_minor": 0
}