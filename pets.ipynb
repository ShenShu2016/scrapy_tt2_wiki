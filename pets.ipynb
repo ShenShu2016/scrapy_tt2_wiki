{
 "cells": [
  {
   "cell_type": "code",
   "execution_count": 1,
   "metadata": {
    "collapsed": true
   },
   "outputs": [],
   "source": [
    "from selenium import webdriver\n",
    "import  time\n",
    "import pandas as pd"
   ]
  },
  {
   "cell_type": "code",
   "execution_count": 2,
   "outputs": [],
   "source": [
    "wd=webdriver.Chrome(r'chromedriver.exe')"
   ],
   "metadata": {
    "collapsed": false,
    "pycharm": {
     "name": "#%%\n"
    }
   }
  },
  {
   "cell_type": "code",
   "execution_count": 3,
   "outputs": [],
   "source": [
    "wd.get('https://tap-titans-2.fandom.com/wiki/Pets')"
   ],
   "metadata": {
    "collapsed": false,
    "pycharm": {
     "name": "#%%\n"
    }
   }
  },
  {
   "cell_type": "code",
   "execution_count": 4,
   "outputs": [],
   "source": [
    "tr_list=wd.find_elements_by_tag_name(\"tr\")"
   ],
   "metadata": {
    "collapsed": false,
    "pycharm": {
     "name": "#%%\n"
    }
   }
  },
  {
   "cell_type": "code",
   "execution_count": null,
   "outputs": [],
   "source": [],
   "metadata": {
    "collapsed": false,
    "pycharm": {
     "name": "#%%\n"
    }
   }
  },
  {
   "cell_type": "code",
   "execution_count": null,
   "outputs": [],
   "source": [],
   "metadata": {
    "collapsed": false,
    "pycharm": {
     "name": "#%%\n"
    }
   }
  },
  {
   "cell_type": "code",
   "execution_count": 6,
   "outputs": [],
   "source": [
    "Namelist=[]\n",
    "PetBonuslist=[]\n",
    "MaxScaleCap=[]"
   ],
   "metadata": {
    "collapsed": false,
    "pycharm": {
     "name": "#%%\n"
    }
   }
  },
  {
   "cell_type": "code",
   "execution_count": 7,
   "outputs": [],
   "source": [
    "for index,i in enumerate(tr_list):\n",
    "    if index==0:\n",
    "        pass\n",
    "    else:\n",
    "      Namelist.append(i.find_elements_by_tag_name('td')[0].text)\n",
    "      PetBonuslist.append(i.find_elements_by_tag_name('td')[1].text)\n",
    "      MaxScaleCap.append(i.find_elements_by_tag_name('td')[2].text)"
   ],
   "metadata": {
    "collapsed": false,
    "pycharm": {
     "name": "#%%\n"
    }
   }
  },
  {
   "cell_type": "code",
   "execution_count": 8,
   "outputs": [],
   "source": [
    "df=pd.DataFrame()"
   ],
   "metadata": {
    "collapsed": false,
    "pycharm": {
     "name": "#%%\n"
    }
   }
  },
  {
   "cell_type": "code",
   "execution_count": 9,
   "outputs": [],
   "source": [
    "\n",
    "df['Name']=Namelist\n",
    "df['Pet_Bonus']=PetBonuslist\n",
    "df['Max Scale Cap']=MaxScaleCap"
   ],
   "metadata": {
    "collapsed": false,
    "pycharm": {
     "name": "#%%\n"
    }
   }
  },
  {
   "cell_type": "code",
   "execution_count": 10,
   "outputs": [],
   "source": [
    "df.to_csv(\"Pet_List.csv\")"
   ],
   "metadata": {
    "collapsed": false,
    "pycharm": {
     "name": "#%%\n"
    }
   }
  },
  {
   "cell_type": "code",
   "execution_count": 11,
   "outputs": [
    {
     "name": "stdout",
     "output_type": "stream",
     "text": [
      " Annabelle\n",
      " Bash\n",
      " Basil\n",
      " Basky\n",
      " Bubbles\n",
      " Cerberus\n",
      " Cooper\n",
      " Cosmos\n",
      " Demos\n",
      " Effie\n",
      " Fluffers\n",
      " Griff\n",
      " Hamy\n",
      " Harker\n",
      " Jaws\n",
      " Kit\n",
      " Klack\n",
      " Mousy\n",
      " Nova\n",
      " Percy\n",
      " Phobos\n",
      " Polly\n",
      " Scraps\n",
      " Soot\n",
      " Taffy\n",
      " Tempest\n",
      " Toto\n",
      " Violet\n",
      " Xander\n",
      " Zero\n"
     ]
    }
   ],
   "source": [
    "for i in Namelist:\n",
    "    print(i)"
   ],
   "metadata": {
    "collapsed": false,
    "pycharm": {
     "name": "#%%\n"
    }
   }
  },
  {
   "cell_type": "code",
   "execution_count": 12,
   "outputs": [],
   "source": [
    "wd.get(\"https://tap-titans-2.fandom.com/wiki/Scraps\")"
   ],
   "metadata": {
    "collapsed": false,
    "pycharm": {
     "name": "#%%\n"
    }
   }
  },
  {
   "cell_type": "code",
   "execution_count": 16,
   "outputs": [],
   "source": [
    "img_list=wd.find_elements_by_class_name('pi-item.pi-image')"
   ],
   "metadata": {
    "collapsed": false,
    "pycharm": {
     "name": "#%%\n"
    }
   }
  },
  {
   "cell_type": "code",
   "execution_count": 19,
   "outputs": [],
   "source": [
    "for ind,j in enumerate(img_list):\n",
    "    if ind==0 and len(img_list)==2:\n",
    "        j.screenshot('img/pet/'+Namelist[0]+\"_Icon.png\")\n",
    "    elif ind==1 :\n",
    "        j.screenshot('img/pet/'+Namelist[0]+\"_Full.png\")\n",
    "    else:\n",
    "        j.screenshot('img/pet/'+Namelist[0]+\"_Icon.png\")\n"
   ],
   "metadata": {
    "collapsed": false,
    "pycharm": {
     "name": "#%%\n"
    }
   }
  },
  {
   "cell_type": "code",
   "execution_count": null,
   "outputs": [],
   "source": [],
   "metadata": {
    "collapsed": false,
    "pycharm": {
     "name": "#%%\n"
    }
   }
  }
 ],
 "metadata": {
  "kernelspec": {
   "display_name": "Python 3",
   "language": "python",
   "name": "python3"
  },
  "language_info": {
   "codemirror_mode": {
    "name": "ipython",
    "version": 2
   },
   "file_extension": ".py",
   "mimetype": "text/x-python",
   "name": "python",
   "nbconvert_exporter": "python",
   "pygments_lexer": "ipython2",
   "version": "2.7.6"
  }
 },
 "nbformat": 4,
 "nbformat_minor": 0
}