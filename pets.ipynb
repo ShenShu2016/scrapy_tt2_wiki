{
 "cells": [
  {
   "cell_type": "code",
   "execution_count": 1,
   "metadata": {
    "collapsed": true
   },
   "outputs": [],
   "source": [
    "from selenium import webdriver\n",
    "import  time\n",
    "import pandas as pd"
   ]
  },
  {
   "cell_type": "code",
   "execution_count": 2,
   "outputs": [],
   "source": [
    "wd=webdriver.Chrome(r'chromedriver.exe')"
   ],
   "metadata": {
    "collapsed": false,
    "pycharm": {
     "name": "#%%\n"
    }
   }
  },
  {
   "cell_type": "code",
   "execution_count": 3,
   "outputs": [],
   "source": [
    "wd.get('https://tap-titans-2.fandom.com/wiki/Pets')"
   ],
   "metadata": {
    "collapsed": false,
    "pycharm": {
     "name": "#%%\n"
    }
   }
  },
  {
   "cell_type": "code",
   "execution_count": 4,
   "outputs": [],
   "source": [
    "tr_list=wd.find_elements_by_tag_name(\"tr\")"
   ],
   "metadata": {
    "collapsed": false,
    "pycharm": {
     "name": "#%%\n"
    }
   }
  },
  {
   "cell_type": "code",
   "execution_count": 4,
   "outputs": [],
   "source": [],
   "metadata": {
    "collapsed": false,
    "pycharm": {
     "name": "#%%\n"
    }
   }
  },
  {
   "cell_type": "code",
   "execution_count": 4,
   "outputs": [],
   "source": [],
   "metadata": {
    "collapsed": false,
    "pycharm": {
     "name": "#%%\n"
    }
   }
  },
  {
   "cell_type": "code",
   "execution_count": 5,
   "outputs": [],
   "source": [
    "Namelist=[]\n",
    "PetBonuslist=[]\n",
    "MaxScaleCap=[]"
   ],
   "metadata": {
    "collapsed": false,
    "pycharm": {
     "name": "#%%\n"
    }
   }
  },
  {
   "cell_type": "code",
   "execution_count": 6,
   "outputs": [],
   "source": [
    "for index,i in enumerate(tr_list):\n",
    "    if index==0:\n",
    "        pass\n",
    "    else:\n",
    "      Namelist.append(i.find_elements_by_tag_name('td')[0].text)\n",
    "      PetBonuslist.append(i.find_elements_by_tag_name('td')[1].text)\n",
    "      MaxScaleCap.append(i.find_elements_by_tag_name('td')[2].text)"
   ],
   "metadata": {
    "collapsed": false,
    "pycharm": {
     "name": "#%%\n"
    }
   }
  },
  {
   "cell_type": "code",
   "execution_count": 7,
   "outputs": [],
   "source": [
    "df=pd.DataFrame()"
   ],
   "metadata": {
    "collapsed": false,
    "pycharm": {
     "name": "#%%\n"
    }
   }
  },
  {
   "cell_type": "code",
   "execution_count": 8,
   "outputs": [],
   "source": [
    "\n",
    "df['Name']=Namelist\n",
    "df['Pet_Bonus']=PetBonuslist\n",
    "df['Max Scale Cap']=MaxScaleCap"
   ],
   "metadata": {
    "collapsed": false,
    "pycharm": {
     "name": "#%%\n"
    }
   }
  },
  {
   "cell_type": "code",
   "execution_count": 9,
   "outputs": [],
   "source": [
    "df.to_csv(\"Pet_List.csv\")"
   ],
   "metadata": {
    "collapsed": false,
    "pycharm": {
     "name": "#%%\n"
    }
   }
  },
  {
   "cell_type": "code",
   "execution_count": 10,
   "outputs": [
    {
     "name": "stdout",
     "output_type": "stream",
     "text": [
      " Annabelle\n",
      " Bash\n",
      " Basil\n",
      " Basky\n",
      " Bubbles\n",
      " Cerberus\n",
      " Cooper\n",
      " Cosmos\n",
      " Demos\n",
      " Effie\n",
      " Fluffers\n",
      " Griff\n",
      " Hamy\n",
      " Harker\n",
      " Jaws\n",
      " Kit\n",
      " Klack\n",
      " Mousy\n",
      " Nova\n",
      " Percy\n",
      " Phobos\n",
      " Polly\n",
      " Scraps\n",
      " Soot\n",
      " Taffy\n",
      " Tempest\n",
      " Toto\n",
      " Violet\n",
      " Xander\n",
      " Zero\n"
     ]
    }
   ],
   "source": [
    "for i in Namelist:\n",
    "    print(i)"
   ],
   "metadata": {
    "collapsed": false,
    "pycharm": {
     "name": "#%%\n"
    }
   }
  },
  {
   "cell_type": "code",
   "execution_count": 26,
   "outputs": [],
   "source": [
    "for i in Namelist:\n",
    "    wd.get(\"https://tap-titans-2.fandom.com/wiki/\"+i)\n",
    "    img_list=wd.find_elements_by_class_name('pi-item.pi-image')\n",
    "    time.sleep(3)\n",
    "    if len(img_list)==2:\n",
    "        li=wd.find_element_by_class_name('pi-section-navigation')\n",
    "        full_icon=li.find_elements_by_class_name('pi-section-label')\n",
    "        full_icon[0].click()\n",
    "        img_list[0].screenshot('img/pet/'+i+\"_Full.png\")\n",
    "        time.sleep(1)\n",
    "        full_icon[1].click()\n",
    "        img_list[1].screenshot('img/pet/'+i+\"_Icon.png\")\n",
    "    else:\n",
    "        img_list[0].screenshot('img/pet/'+i+\"_Icon.png\")\n",
    "\n",
    "\n"
   ],
   "metadata": {
    "collapsed": false,
    "pycharm": {
     "name": "#%%\n"
    }
   }
  },
  {
   "cell_type": "code",
   "execution_count": null,
   "outputs": [],
   "source": [],
   "metadata": {
    "collapsed": false,
    "pycharm": {
     "name": "#%%\n"
    }
   }
  },
  {
   "cell_type": "code",
   "execution_count": 14,
   "outputs": [],
   "source": [],
   "metadata": {
    "collapsed": false,
    "pycharm": {
     "name": "#%%\n"
    }
   }
  },
  {
   "cell_type": "code",
   "execution_count": 20,
   "outputs": [],
   "source": [
    "li=wd.find_element_by_class_name('pi-section-navigation')"
   ],
   "metadata": {
    "collapsed": false,
    "pycharm": {
     "name": "#%%\n"
    }
   }
  },
  {
   "cell_type": "code",
   "execution_count": 22,
   "outputs": [],
   "source": [
    "full_icon=li.find_elements_by_class_name('pi-section-label')"
   ],
   "metadata": {
    "collapsed": false,
    "pycharm": {
     "name": "#%%\n"
    }
   }
  },
  {
   "cell_type": "code",
   "execution_count": 23,
   "outputs": [
    {
     "data": {
      "text/plain": "2"
     },
     "execution_count": 23,
     "metadata": {},
     "output_type": "execute_result"
    }
   ],
   "source": [
    "len(full_icon)"
   ],
   "metadata": {
    "collapsed": false,
    "pycharm": {
     "name": "#%%\n"
    }
   }
  },
  {
   "cell_type": "code",
   "execution_count": 24,
   "outputs": [],
   "source": [
    "full_icon[0].click()\n"
   ],
   "metadata": {
    "collapsed": false,
    "pycharm": {
     "name": "#%%\n"
    }
   }
  },
  {
   "cell_type": "code",
   "execution_count": 25,
   "outputs": [],
   "source": [
    "full_icon[1].click()\n"
   ],
   "metadata": {
    "collapsed": false,
    "pycharm": {
     "name": "#%%\n"
    }
   }
  },
  {
   "cell_type": "code",
   "execution_count": null,
   "outputs": [],
   "source": [],
   "metadata": {
    "collapsed": false,
    "pycharm": {
     "name": "#%%\n"
    }
   }
  }
 ],
 "metadata": {
  "kernelspec": {
   "display_name": "Python 3",
   "language": "python",
   "name": "python3"
  },
  "language_info": {
   "codemirror_mode": {
    "name": "ipython",
    "version": 2
   },
   "file_extension": ".py",
   "mimetype": "text/x-python",
   "name": "python",
   "nbconvert_exporter": "python",
   "pygments_lexer": "ipython2",
   "version": "2.7.6"
  }
 },
 "nbformat": 4,
 "nbformat_minor": 0
}