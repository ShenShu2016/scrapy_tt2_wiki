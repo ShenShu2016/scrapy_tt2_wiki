{
 "cells": [
  {
   "cell_type": "code",
   "execution_count": 56,
   "metadata": {
    "collapsed": true
   },
   "outputs": [],
   "source": [
    "from selenium import webdriver\n",
    "import  time\n",
    "import pandas as pd"
   ]
  },
  {
   "cell_type": "code",
   "execution_count": 10,
   "outputs": [],
   "source": [
    "wd=webdriver.Chrome(r'chromedriver.exe')"
   ],
   "metadata": {
    "collapsed": false,
    "pycharm": {
     "name": "#%%\n"
    }
   }
  },
  {
   "cell_type": "code",
   "execution_count": 11,
   "outputs": [],
   "source": [
    "wd.get('https://tap-titans-2.fandom.com/wiki/Artifacts')"
   ],
   "metadata": {
    "collapsed": false,
    "pycharm": {
     "name": "#%%\n"
    }
   }
  },
  {
   "cell_type": "code",
   "execution_count": 4,
   "outputs": [],
   "source": [],
   "metadata": {
    "collapsed": false,
    "pycharm": {
     "name": "#%%\n"
    }
   }
  },
  {
   "cell_type": "code",
   "execution_count": 13,
   "outputs": [],
   "source": [
    "tr_list=wd.find_elements_by_tag_name(\"tr\")"
   ],
   "metadata": {
    "collapsed": false,
    "pycharm": {
     "name": "#%%\n"
    }
   }
  },
  {
   "cell_type": "code",
   "execution_count": 13,
   "outputs": [],
   "source": [],
   "metadata": {
    "collapsed": false,
    "pycharm": {
     "name": "#%%\n"
    }
   }
  },
  {
   "cell_type": "code",
   "execution_count": 14,
   "outputs": [],
   "source": [
    "orderlist=[]\n",
    "Namelist=[]\n",
    "Ranklist=[]\n",
    "Categorylist=[]\n",
    "Effectlist=[]\n",
    "Max_level_list=[]\n",
    "Damagelist=[]"
   ],
   "metadata": {
    "collapsed": false,
    "pycharm": {
     "name": "#%%\n"
    }
   }
  },
  {
   "cell_type": "code",
   "execution_count": 14,
   "outputs": [],
   "source": [],
   "metadata": {
    "collapsed": false,
    "pycharm": {
     "name": "#%%\n"
    }
   }
  },
  {
   "cell_type": "code",
   "execution_count": 15,
   "outputs": [],
   "source": [
    "for index,i in enumerate(tr_list):\n",
    "   # i.find_elements_by_tag_name('img')\n",
    "   if index==0 or index>97:\n",
    "      pass\n",
    "   else:\n",
    "      orderlist.append(i.find_elements_by_tag_name('td')[0].text)\n",
    "      name_temp=i.find_elements_by_tag_name('td')[1].text\n",
    "      Namelist.append(name_temp)\n",
    "      Ranklist.append(i.find_elements_by_tag_name('td')[2].text)\n",
    "      Categorylist.append(i.find_elements_by_tag_name('td')[3].text)\n",
    "      Effectlist.append(i.find_elements_by_tag_name('td')[4].text)\n",
    "      Max_level_list.append(i.find_elements_by_tag_name('td')[5].text)\n",
    "      Damagelist.append(i.find_elements_by_tag_name('td')[6].text)\n",
    "      # img_=i.find_element_by_tag_name('img')\n",
    "      # img_.screenshot(\"img/\"+name_temp+\".png\")"
   ],
   "metadata": {
    "collapsed": false,
    "pycharm": {
     "name": "#%%\n"
    }
   }
  },
  {
   "cell_type": "code",
   "execution_count": 57,
   "outputs": [],
   "source": [
    "df=pd.DataFrame()"
   ],
   "metadata": {
    "collapsed": false,
    "pycharm": {
     "name": "#%%\n"
    }
   }
  },
  {
   "cell_type": "code",
   "execution_count": 58,
   "outputs": [],
   "source": [
    "\n",
    "df['Order']=orderlist\n",
    "df['Name']=Namelist\n",
    "df['Rank']=Ranklist\n",
    "df['Category']=Categorylist\n",
    "df['Effect']=Effectlist\n",
    "df['Max_Level']=Max_level_list\n",
    "df['Damage']=Damagelist"
   ],
   "metadata": {
    "collapsed": false,
    "pycharm": {
     "name": "#%%\n"
    }
   }
  },
  {
   "cell_type": "code",
   "execution_count": 61,
   "outputs": [],
   "source": [
    "df.to_csv(\"Artifact_List.csv\")"
   ],
   "metadata": {
    "collapsed": false,
    "pycharm": {
     "name": "#%%\n"
    }
   }
  },
  {
   "cell_type": "code",
   "execution_count": null,
   "outputs": [],
   "source": [],
   "metadata": {
    "collapsed": false,
    "pycharm": {
     "name": "#%%\n"
    }
   }
  },
  {
   "cell_type": "code",
   "execution_count": 26,
   "outputs": [
    {
     "name": "stdout",
     "output_type": "stream",
     "text": [
      "Heroic_Shield\n",
      "Stone_of_the_Valrunes\n",
      "The_Arcana_Cloak\n",
      "Axe_of_Muerte\n",
      "Invader%27s_Shield\n",
      "Elixir_of_Eden\n",
      "Parchment_of_Foresight\n",
      "Hunter%27s_Ointment\n",
      "Laborer%27s_Pendant\n",
      "Bringer_of_Ragnarok\n",
      "Titan%27s_Mask\n",
      "Swamp_Gauntlet\n",
      "Forbidden_Scroll\n",
      "Aegis\n",
      "Ring_of_Fealty\n",
      "Glacial_Axe\n",
      "Helmet_of_Madness\n",
      "Egg_of_Fortune\n",
      "Chest_of_Contentment\n",
      "Book_of_Prophecy\n",
      "Divine_Chalice\n",
      "Book_of_Shadows\n",
      "Titanium_Plating\n",
      "Staff_of_Radiance\n",
      "Blade_of_Damocles\n",
      "Heavenly_Sword\n",
      "Glove_of_Kuma\n",
      "Amethyst_Staff\n",
      "Drunken_Hammer\n",
      "Influential_Elixir\n",
      "Divine_Retribution\n",
      "The_Sword_of_Storms\n",
      "Furies_Bow\n",
      "Charm_of_the_Ancient\n",
      "Hero%27s_Blade\n",
      "Infinity_Pendulum\n",
      "Oak_Staff\n",
      "Fruit_of_Eden\n",
      "Titan_Spear\n",
      "Ring_of_Calisto\n",
      "Royal_Toxin\n",
      "Avian_Feather\n",
      "Zakynthos_Coin\n",
      "Great_Fay_Medallion\n",
      "Neko_Sculpture\n",
      "Corrupted_Rune_Heart\n",
      "Invader%27s_Gjalarhorn\n",
      "Phantom_Timepiece\n",
      "The_Master%27s_Sword\n",
      "Ambrosia_Elixir\n",
      "Samosek_Sword\n",
      "Heart_of_Storms\n",
      "Apollo_Orb\n",
      "Essence_of_the_Kitsune\n",
      "Durendal_Sword\n",
      "Helheim_Skull\n",
      "Aram_Spear\n",
      "Mystic_Staff\n",
      "The_Retaliator\n",
      "Ward_of_the_Darkness\n",
      "Tiny_Titan_Tree\n",
      "Helm_of_Hermes\n",
      "Lost_King%27s_Mask\n",
      "O%27Ryan%27s_Charm\n",
      "Hourglass_of_the_Impatient\n",
      "Khrysos_Bowl\n",
      "Earrings_of_Portara\n",
      "Mystical_Beans_of_Senzu\n",
      "Lucky_Foot_of_Al-mi%27raj\n",
      "Boots_of_Hermes\n",
      "Morgelai_Sword\n",
      "Oberon_Pendant\n",
      "Moonlight_Bracelet\n",
      "Unbound_Gauntlet\n",
      "Oath%27s_Burden\n",
      "Crown_of_the_Constellation\n",
      "Titania%27s_Sceptre\n",
      "Fagin%27s_Grip\n",
      "Coins_of_Ebizu\n",
      "The_Magnifier\n",
      "The_Treasure_of_Fergus\n",
      "The_Bronzed_Compass\n",
      "Stryfe%27s_Peace\n",
      "Flute_of_the_Soloist\n",
      "The_White_Dwarf\n",
      "Sword_of_the_Royals\n",
      "Spearit%27s_Vigil\n",
      "The_Cobalt_Plate\n",
      "Sigils_of_Judgement\n",
      "Foliage_of_the_Keeper\n",
      "Ringing_Stone\n",
      "Quill_of_Scrolls\n",
      "Old_King%27s_Stamp\n",
      "Evergrowing_Stack\n",
      "Charged_Card\n",
      "Hades_Orb\n",
      "Sticky_Fruit\n"
     ]
    }
   ],
   "source": [
    "web_add=[]\n",
    "for i in Namelist:\n",
    "   print(i.strip().replace(\"'\",\"%27\").replace(\" \",\"_\"))\n",
    "   web_add.append(i.strip().replace(\"'\",\"%27\").replace(\" \",\"_\"))"
   ],
   "metadata": {
    "collapsed": false,
    "pycharm": {
     "name": "#%%\n"
    }
   }
  },
  {
   "cell_type": "code",
   "execution_count": 55,
   "outputs": [],
   "source": [
    "for index,i in enumerate(web_add):\n",
    "\n",
    "   wd.get(\"https://tap-titans-2.fandom.com/wiki/\"+i)\n",
    "   time.sleep(2)\n",
    "   thumbnail=wd.find_element_by_class_name(\"pi-image-thumbnail\")\n",
    "   thumbnail.screenshot('img/'+f\"{Namelist[index]}\"+'.png')\n",
    "\n",
    "\n"
   ],
   "metadata": {
    "collapsed": false,
    "pycharm": {
     "name": "#%%\n"
    }
   }
  },
  {
   "cell_type": "code",
   "execution_count": 29,
   "outputs": [],
   "source": [],
   "metadata": {
    "collapsed": false,
    "pycharm": {
     "name": "#%%\n"
    }
   }
  },
  {
   "cell_type": "code",
   "execution_count": 52,
   "outputs": [],
   "source": [],
   "metadata": {
    "collapsed": false,
    "pycharm": {
     "name": "#%%\n"
    }
   }
  },
  {
   "cell_type": "code",
   "execution_count": 53,
   "outputs": [
    {
     "data": {
      "text/plain": "True"
     },
     "execution_count": 53,
     "metadata": {},
     "output_type": "execute_result"
    }
   ],
   "source": [],
   "metadata": {
    "collapsed": false,
    "pycharm": {
     "name": "#%%\n"
    }
   }
  },
  {
   "cell_type": "code",
   "execution_count": 54,
   "outputs": [
    {
     "data": {
      "text/plain": "97"
     },
     "execution_count": 54,
     "metadata": {},
     "output_type": "execute_result"
    }
   ],
   "source": [],
   "metadata": {
    "collapsed": false,
    "pycharm": {
     "name": "#%%\n"
    }
   }
  },
  {
   "cell_type": "code",
   "execution_count": null,
   "outputs": [],
   "source": [],
   "metadata": {
    "collapsed": false,
    "pycharm": {
     "name": "#%%\n"
    }
   }
  }
 ],
 "metadata": {
  "kernelspec": {
   "display_name": "Python 3",
   "language": "python",
   "name": "python3"
  },
  "language_info": {
   "codemirror_mode": {
    "name": "ipython",
    "version": 2
   },
   "file_extension": ".py",
   "mimetype": "text/x-python",
   "name": "python",
   "nbconvert_exporter": "python",
   "pygments_lexer": "ipython2",
   "version": "2.7.6"
  }
 },
 "nbformat": 4,
 "nbformat_minor": 0
}